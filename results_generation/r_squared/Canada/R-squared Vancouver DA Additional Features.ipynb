{
 "cells": [
  {
   "cell_type": "code",
   "execution_count": null,
   "metadata": {},
   "outputs": [],
   "source": [
    "import pandas as pd\n",
    "import numpy as np\n",
    "from sklearn.metrics import r2_score"
   ]
  },
  {
   "cell_type": "code",
   "execution_count": null,
   "metadata": {},
   "outputs": [],
   "source": [
    "cons_vancouver = pd.read_csv(\"../../../census_data/Processed/Canada/DA_ADD/cons_canada_da_add.csv\")\n",
    "synth_pop_vancouverIPF = pd.read_csv(\"../../../synthetic_data/Canada/DA_ADD/synthetic_group_data_IPF.csv\")\n",
    "synth_pop_vancouverHC = pd.read_csv(\"../../../synthetic_data/Canada/DA_ADD/synthetic_group_data_HC.csv\")\n",
    "synth_pop_vancouverCP = pd.read_csv(\"../../../synthetic_data/Canada/DA_ADD/synthetic_group_data_CP.csv\")\n",
    "synth_pop_vancouverSA = pd.read_csv(\"../../../synthetic_data/Canada/DA_ADD/synthetic_group_data_SA.csv\")\n",
    "synth_pop_vancouverRPWR = pd.read_csv(\"../../../synthetic_data/Canada/DA_ADD/synthetic_group_data_RPWR.csv\")\n",
    "print(synth_pop_vancouverSA.columns)"
   ]
  },
  {
   "cell_type": "code",
   "execution_count": null,
   "metadata": {},
   "outputs": [],
   "source": [
    "complete_resultIPF = []\n",
    "complete_resultHC = []\n",
    "complete_resultSA = []\n",
    "complete_resultCP = []\n",
    "complete_resultRPWR = []\n",
    "\n",
    "for name in synth_pop_vancouverIPF.columns:\n",
    "    synth = synth_pop_vancouverIPF[name].to_numpy()\n",
    "    real = cons_vancouver[name].to_numpy()\n",
    "    r2 = r2_score(real,synth)\n",
    "    if r2 > 1: r2 = 1\n",
    "    if r2 < 0: r2 = 0\n",
    "    complete_resultIPF.append(r2)\n",
    "    \n",
    "for name in synth_pop_vancouverHC.columns:\n",
    "    synth = synth_pop_vancouverHC[name].to_numpy()\n",
    "    real = cons_vancouver[name].to_numpy()\n",
    "    r2 = r2_score(real,synth)\n",
    "    if r2 > 1: r2 = 1\n",
    "    if r2 < 0: r2 = 0\n",
    "    complete_resultHC.append(r2)\n",
    "    \n",
    "for name in synth_pop_vancouverSA.columns:\n",
    "    synth = synth_pop_vancouverSA[name].to_numpy()\n",
    "    real = cons_vancouver[name].to_numpy()\n",
    "    r2 = r2_score(real,synth)\n",
    "    if r2 > 1: r2 = 1\n",
    "    if r2 < 0: r2 = 0\n",
    "    complete_resultSA.append(r2)\n",
    "    \n",
    "for name in synth_pop_vancouverRPWR.columns:\n",
    "    synth = synth_pop_vancouverRPWR[name].to_numpy()\n",
    "    real = cons_vancouver[name].to_numpy()\n",
    "    r2 = r2_score(real,synth)\n",
    "    if r2 > 1: r2 = 1\n",
    "    if r2 < 0: r2 = 0\n",
    "    complete_resultRPWR.append(r2)\n",
    "    \n",
    "for name in synth_pop_vancouverCP.columns:\n",
    "    synth = synth_pop_vancouverCP[name].to_numpy()\n",
    "    real = cons_vancouver[name].to_numpy()\n",
    "    r2 = r2_score(real,synth)\n",
    "    if r2 > 1: r2 = 1\n",
    "    if r2 < 0: r2 = 0\n",
    "    complete_resultCP.append(r2)\n",
    "\n",
    "complete_result = []; complete_result.append(complete_resultIPF); complete_result.append(complete_resultHC)\n",
    "complete_result.append(complete_resultCP); complete_result.append(complete_resultSA); complete_result.append(complete_resultRPWR)"
   ]
  },
  {
   "cell_type": "code",
   "execution_count": null,
   "metadata": {},
   "outputs": [],
   "source": [
    "result_df = pd.DataFrame(complete_result,index=['IPF','HC','CP','SA','RPWR'],columns=synth_pop_vancouverIPF.columns)\n",
    "result_df"
   ]
  },
  {
   "cell_type": "code",
   "execution_count": null,
   "metadata": {},
   "outputs": [],
   "source": [
    "import seaborn as sns\n",
    "import matplotlib.pyplot as plt\n",
    "\n",
    "plt.subplots(figsize=(20,4))\n",
    "plt.title(\"Vancouver DA Additional Features R-squared Values\")\n",
    "sns.heatmap(result_df, annot=False, cmap=\"YlGnBu\")"
   ]
  }
 ],
 "metadata": {
  "interpreter": {
   "hash": "aee8b7b246df8f9039afb4144a1f6fd8d2ca17a180786b69acc140d282b71a49"
  },
  "kernelspec": {
   "display_name": "Python 3.9.13 64-bit",
   "language": "python",
   "name": "python3"
  },
  "language_info": {
   "codemirror_mode": {
    "name": "ipython",
    "version": 3
   },
   "file_extension": ".py",
   "mimetype": "text/x-python",
   "name": "python",
   "nbconvert_exporter": "python",
   "pygments_lexer": "ipython3",
   "version": "3.9.13"
  }
 },
 "nbformat": 4,
 "nbformat_minor": 4
}
