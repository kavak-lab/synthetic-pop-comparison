{
 "cells": [
  {
   "cell_type": "code",
   "execution_count": null,
   "metadata": {},
   "outputs": [],
   "source": [
    "import pandas as pd\n",
    "import numpy as np"
   ]
  },
  {
   "cell_type": "code",
   "execution_count": null,
   "metadata": {},
   "outputs": [],
   "source": [
    "cons_fairfax = pd.read_csv(\"../../../census_data/Processed/US/CBG/cons_us_cbg.csv\")\n",
    "synth_pop_fairfaxIPF = pd.read_csv(\"../../../synthetic_data/US/CBG/synthetic_block_group_data_IPF.csv\")\n",
    "synth_pop_fairfaxHC = pd.read_csv(\"../../../synthetic_data/US/CBG/synthetic_block_group_data_HC.csv\")\n",
    "synth_pop_fairfaxCP = pd.read_csv(\"../../../synthetic_data/US/CBG/synthetic_block_group_data_CP.csv\")\n",
    "synth_pop_fairfaxSA = pd.read_csv(\"../../../synthetic_data/US/CBG/synthetic_block_group_data_SA.csv\")\n",
    "synth_pop_fairfaxRPWR = pd.read_csv(\"../../../synthetic_data/US/CBG/synthetic_block_group_data_RPWR.csv\")\n",
    "print(synth_pop_fairfaxCP.columns)"
   ]
  },
  {
   "cell_type": "code",
   "execution_count": null,
   "metadata": {},
   "outputs": [],
   "source": [
    "complete_resultIPF = []\n",
    "complete_resultHC = []\n",
    "complete_resultCP = []\n",
    "complete_resultSA = []\n",
    "complete_resultRPWR = []\n",
    "\n",
    "for name in synth_pop_fairfaxIPF.columns:\n",
    "    total_synth = synth_pop_fairfaxIPF[name].sum()\n",
    "    total_real = cons_fairfax[name].sum()\n",
    "    complete_error = abs(total_synth-total_real)\n",
    "    percent_error = round(complete_error/total_real*100,2)\n",
    "    complete_resultIPF.append([name,complete_error, str(percent_error)+\"%\"])\n",
    "    \n",
    "for name in synth_pop_fairfaxHC.columns:\n",
    "    total_synth = synth_pop_fairfaxHC[name].sum()\n",
    "    total_real = cons_fairfax[name].sum()\n",
    "    complete_error = abs(total_synth-total_real)\n",
    "    percent_error = round(complete_error/total_real*100,2)\n",
    "    complete_resultHC.append([name,complete_error, str(percent_error)+\"%\"])\n",
    "    \n",
    "for name in synth_pop_fairfaxCP.columns:\n",
    "    total_synth = synth_pop_fairfaxCP[name].sum()\n",
    "    total_real = cons_fairfax[name].sum()\n",
    "    complete_error = abs(total_synth-total_real)\n",
    "    percent_error = round(complete_error/total_real*100,2)\n",
    "    complete_resultCP.append([name,complete_error, str(percent_error)+\"%\"])\n",
    "    \n",
    "for name in synth_pop_fairfaxRPWR.columns:\n",
    "    total_synth = synth_pop_fairfaxRPWR[name].sum()\n",
    "    total_real = cons_fairfax[name].sum()\n",
    "    complete_error = abs(total_synth-total_real)\n",
    "    percent_error = round(complete_error/total_real*100,2)\n",
    "    complete_resultRPWR.append([name,complete_error, str(percent_error)+\"%\"])\n",
    "    \n",
    "for name in synth_pop_fairfaxSA.columns:\n",
    "    total_synth = synth_pop_fairfaxSA[name].sum()\n",
    "    total_real = cons_fairfax[name].sum()\n",
    "    complete_error = abs(total_synth-total_real)\n",
    "    percent_error = round(complete_error/total_real*100,2)\n",
    "    complete_resultSA.append([name,complete_error, str(percent_error)+\"%\"])\n"
   ]
  },
  {
   "cell_type": "code",
   "execution_count": null,
   "metadata": {},
   "outputs": [],
   "source": [
    "result_IPF = pd.DataFrame(complete_resultIPF, columns = ['Category','Complete Error','Percentage Error'])\n",
    "result_HC = pd.DataFrame(complete_resultHC, columns = ['Category','Complete Error','Percentage Error'])\n",
    "result_CP = pd.DataFrame(complete_resultCP, columns = ['Category','Complete Error','Percentage Error'])\n",
    "result_SA = pd.DataFrame(complete_resultSA, columns = ['Category','Complete Error','Percentage Error'])\n",
    "result_RPWR = pd.DataFrame(complete_resultRPWR, columns = ['Category','Complete Error','Percentage Error'])\n",
    "result_IPF"
   ]
  },
  {
   "cell_type": "code",
   "execution_count": null,
   "metadata": {},
   "outputs": [],
   "source": [
    "import matplotlib.pyplot as plt\n",
    "\n",
    "ageIPF =[]\n",
    "ageCP = []\n",
    "ageRPWR = []\n",
    "ageSA = []\n",
    "ageHC = []\n",
    "\n",
    "for info in complete_resultIPF[1:10]:\n",
    "    ageIPF.append(info[1])\n",
    "for info in complete_resultCP[1:10]:\n",
    "    ageCP.append(info[1])\n",
    "for info in complete_resultRPWR[1:10]:\n",
    "    ageRPWR.append(info[1])\n",
    "for info in complete_resultSA[1:10]:\n",
    "    ageSA.append(info[1])\n",
    "for info in complete_resultHC[1:10]:\n",
    "    ageHC.append(info[1])\n",
    "\n",
    "    \n",
    "data = [ageIPF, ageHC, ageCP, ageSA, ageRPWR]\n",
    "fig = plt.figure(figsize =(8, 2)) \n",
    "ax = fig.add_axes([0, 0, 1, 1]) \n",
    "plt.title(\"Total Absolute Error (Fairfax - CBG: Age)\")\n",
    "bp = ax.boxplot(data, labels=[\"Age (IPF)\",\"Age (HC)\",\"Age (CP)\",\"Age (SA)\", \"Age (RPWR)\"]) \n",
    "\n",
    "plt.show()"
   ]
  },
  {
   "cell_type": "code",
   "execution_count": null,
   "metadata": {},
   "outputs": [],
   "source": [
    "raceIPF = []\n",
    "raceHC = []\n",
    "raceCP = []\n",
    "raceSA = []\n",
    "raceRPWR = []\n",
    "\n",
    "\n",
    "for info in complete_resultIPF[12:19]:\n",
    "    raceIPF.append(info[1])\n",
    "for info in complete_resultHC[12:19]:\n",
    "    raceHC.append(info[1])\n",
    "for info in complete_resultCP[12:19]:\n",
    "    raceCP.append(info[1])\n",
    "for info in complete_resultSA[12:19]:\n",
    "    raceSA.append(info[1])\n",
    "for info in complete_resultRPWR[12:19]:\n",
    "    raceRPWR.append(info[1])\n",
    "    \n",
    "data = [raceIPF, raceHC, raceCP, raceSA, raceRPWR]\n",
    "fig = plt.figure(figsize =(8, 2)) \n",
    "ax = fig.add_axes([0, 0, 1, 1]) \n",
    "plt.title(\"Total Absolute Error (Fairfax - CBG: Race)\")\n",
    "bp = ax.boxplot(data, labels=[\"Race (IPF)\",\"Race (HC)\",\"Race (CP)\",\"Race (SA)\", \"Race (RPWR)\"]) \n",
    "\n",
    "plt.show()"
   ]
  }
 ],
 "metadata": {
  "interpreter": {
   "hash": "aee8b7b246df8f9039afb4144a1f6fd8d2ca17a180786b69acc140d282b71a49"
  },
  "kernelspec": {
   "display_name": "Python 3.9.13 64-bit",
   "language": "python",
   "name": "python3"
  },
  "language_info": {
   "codemirror_mode": {
    "name": "ipython",
    "version": 3
   },
   "file_extension": ".py",
   "mimetype": "text/x-python",
   "name": "python",
   "nbconvert_exporter": "python",
   "pygments_lexer": "ipython3",
   "version": "3.9.13"
  }
 },
 "nbformat": 4,
 "nbformat_minor": 4
}
