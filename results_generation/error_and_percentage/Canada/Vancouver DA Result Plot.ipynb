{
 "cells": [
  {
   "cell_type": "code",
   "execution_count": null,
   "metadata": {},
   "outputs": [],
   "source": [
    "import pandas as pd\n",
    "import numpy as np"
   ]
  },
  {
   "cell_type": "code",
   "execution_count": null,
   "metadata": {},
   "outputs": [],
   "source": [
    "cons_vancouver = pd.read_csv(\"../../../census_data/Processed/Canada/DA/cons_canada_da.csv\")\n",
    "synth_pop_vancouverIPF = pd.read_csv(\"../../../synthetic_data/Canada/DA/synthetic_group_data_IPF.csv\")\n",
    "synth_pop_vancouverHC = pd.read_csv(\"../../../synthetic_data/Canada/DA/synthetic_group_data_HC.csv\")\n",
    "synth_pop_vancouverCP = pd.read_csv(\"../../../synthetic_data/Canada/DA/synthetic_group_data_CP.csv\")\n",
    "synth_pop_vancouverSA = pd.read_csv(\"../../../synthetic_data/Canada/DA/synthetic_group_data_SA.csv\")\n",
    "synth_pop_vancouverRPWR = pd.read_csv(\"../../../synthetic_data/Canada/DA/synthetic_group_data_RPWR.csv\")\n",
    "print(len(synth_pop_vancouverCP))"
   ]
  },
  {
   "cell_type": "code",
   "execution_count": null,
   "metadata": {},
   "outputs": [],
   "source": [
    "complete_resultIPF = []\n",
    "complete_resultHC = []\n",
    "complete_resultCP = []\n",
    "complete_resultSA = []\n",
    "complete_resultRPWR = []\n",
    "\n",
    "for name in synth_pop_vancouverIPF.columns:\n",
    "    total_synth = synth_pop_vancouverIPF[name].sum()\n",
    "    total_real = cons_vancouver[name].sum()\n",
    "    complete_error = abs(total_synth-total_real)\n",
    "    percent_error = round(complete_error/total_real*100,2)\n",
    "    complete_resultIPF.append([name,complete_error, str(percent_error)+\"%\"])\n",
    "    \n",
    "for name in synth_pop_vancouverHC.columns:\n",
    "    total_synth = synth_pop_vancouverHC[name].sum()\n",
    "    total_real = cons_vancouver[name].sum()\n",
    "    complete_error = abs(total_synth-total_real)\n",
    "    percent_error = round(complete_error/total_real*100,2)\n",
    "    complete_resultHC.append([name,complete_error, str(percent_error)+\"%\"])\n",
    "    \n",
    "for name in synth_pop_vancouverCP.columns:\n",
    "    total_synth = synth_pop_vancouverCP[name].sum()\n",
    "    total_real = cons_vancouver[name].sum()\n",
    "    complete_error = abs(total_synth-total_real)\n",
    "    percent_error = round(complete_error/total_real*100,2)\n",
    "    complete_resultCP.append([name,complete_error, str(percent_error)+\"%\"])\n",
    "    \n",
    "for name in synth_pop_vancouverRPWR.columns:\n",
    "    total_synth = synth_pop_vancouverRPWR[name].sum()\n",
    "    total_real = cons_vancouver[name].sum()\n",
    "    complete_error = abs(total_synth-total_real)\n",
    "    percent_error = round(complete_error/total_real*100,2)\n",
    "    complete_resultRPWR.append([name,complete_error, str(percent_error)+\"%\"])\n",
    "    \n",
    "for name in synth_pop_vancouverSA.columns:\n",
    "    total_synth = synth_pop_vancouverSA[name].sum()\n",
    "    total_real = cons_vancouver[name].sum()\n",
    "    complete_error = abs(total_synth-total_real)\n",
    "    percent_error = round(complete_error/total_real*100,2)\n",
    "    complete_resultSA.append([name,complete_error, str(percent_error)+\"%\"])\n"
   ]
  },
  {
   "cell_type": "code",
   "execution_count": null,
   "metadata": {},
   "outputs": [],
   "source": [
    "result_IPF = pd.DataFrame(complete_resultIPF, columns = ['Category','Complete Error','Percentage Error'])\n",
    "result_HC = pd.DataFrame(complete_resultHC, columns = ['Category','Complete Error','Percentage Error'])\n",
    "result_CP = pd.DataFrame(complete_resultCP, columns = ['Category','Complete Error','Percentage Error'])\n",
    "result_SA = pd.DataFrame(complete_resultSA, columns = ['Category','Complete Error','Percentage Error'])\n",
    "result_RPWR = pd.DataFrame(complete_resultRPWR, columns = ['Category','Complete Error','Percentage Error'])\n",
    "result_IPF"
   ]
  },
  {
   "cell_type": "code",
   "execution_count": null,
   "metadata": {},
   "outputs": [],
   "source": [
    "import matplotlib.pyplot as plt\n",
    "\n",
    "ageIPF = []\n",
    "ageHC = []\n",
    "ageCP = []\n",
    "ageSA = []\n",
    "ageRPWR = []\n",
    "\n",
    "for info in complete_resultIPF[1:19]:\n",
    "    ageIPF.append(info[1])\n",
    "for info in complete_resultHC[1:19]:\n",
    "    ageHC.append(info[1])\n",
    "for info in complete_resultCP[1:19]:\n",
    "    ageCP.append(info[1])\n",
    "for info in complete_resultSA[1:19]:\n",
    "    ageSA.append(info[1])\n",
    "for info in complete_resultRPWR[1:19]:\n",
    "    ageRPWR.append(info[1])\n",
    "\n",
    "    \n",
    "data = [ageIPF, ageHC, ageCP, ageSA, ageRPWR]\n",
    "fig = plt.figure(figsize =(8, 2)) \n",
    "ax = fig.add_axes([0, 0, 1, 1]) \n",
    "plt.title(\"Total Absolute Error (Vancouver - DA: Age)\")\n",
    "bp = ax.boxplot(data, labels=[\"Age (IPF)\",\"Age (HC)\", \"Age (CP)\", \"Age (SA)\",\"Age (RPWR)\"]) \n",
    "\n",
    "plt.show()"
   ]
  },
  {
   "cell_type": "code",
   "execution_count": null,
   "metadata": {},
   "outputs": [],
   "source": [
    "ethIPF = []\n",
    "ethHC = []\n",
    "ethCP = []\n",
    "ethSA = []\n",
    "ethRPWR = []\n",
    "\n",
    "for info in complete_resultIPF[21:55]:\n",
    "    ethIPF.append(info[1])\n",
    "for info in complete_resultHC[21:55]:\n",
    "    ethHC.append(info[1])\n",
    "for info in complete_resultCP[21:55]:\n",
    "    ethCP.append(info[1])\n",
    "for info in complete_resultSA[21:55]:\n",
    "    ethSA.append(info[1])\n",
    "for info in complete_resultRPWR[21:55]:\n",
    "    ethRPWR.append(info[1])\n",
    "\n",
    "    \n",
    "data = [ethIPF, ethHC, ethCP, ethSA, ethRPWR]\n",
    "fig = plt.figure(figsize =(8, 2)) \n",
    "ax = fig.add_axes([0, 0, 1, 1]) \n",
    "plt.title(\"Total Absolute Error (Vancouver - DA: Ethnicity)\")\n",
    "bp = ax.boxplot(data, labels=[\"Ethnicity (IPF)\",\"Ethnicity (HC)\", \"Ethnicity (CP)\", \"Ethnicity (SA)\",\"Ethnicity (RPWR)\"]) \n",
    "\n",
    "plt.show()"
   ]
  }
 ],
 "metadata": {
  "kernelspec": {
   "display_name": "Python 3 (ipykernel)",
   "language": "python",
   "name": "python3"
  },
  "language_info": {
   "codemirror_mode": {
    "name": "ipython",
    "version": 3
   },
   "file_extension": ".py",
   "mimetype": "text/x-python",
   "name": "python",
   "nbconvert_exporter": "python",
   "pygments_lexer": "ipython3",
   "version": "3.8.6"
  }
 },
 "nbformat": 4,
 "nbformat_minor": 4
}
