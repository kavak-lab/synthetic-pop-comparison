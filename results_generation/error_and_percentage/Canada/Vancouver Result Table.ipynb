{
 "cells": [
  {
   "cell_type": "code",
   "execution_count": 37,
   "metadata": {},
   "outputs": [],
   "source": [
    "import pandas as pd\n",
    "import numpy as np"
   ]
  },
  {
   "cell_type": "code",
   "execution_count": 38,
   "metadata": {},
   "outputs": [
    {
     "name": "stdout",
     "output_type": "stream",
     "text": [
      "Index(['population', 'a0_4', 'a5_9', 'a10_14', 'a15_19', 'a20_24', 'a25_29',\n",
      "       'a30_34', 'a35_39', 'a40_44', 'a45_49', 'a50_54', 'a55_59', 'a60_64',\n",
      "       'a65_69', 'a70_74', 'a75_79', 'a80_84', 'a85_', 'f', 'm', 'naao',\n",
      "       'onao_Canadian', 'onao', 'eo_bio_English', 'eo_bio_Irish',\n",
      "       'eo_bio_Scottish', 'eo_obio', 'eo_fo', 'eo_weo_Dutch', 'eo_weo_German',\n",
      "       'eo_oweo', 'eo_neo', 'eo_eeo_Hungarian', 'eo_eeo_Polish',\n",
      "       'eo_eeo_Russian', 'eo_eeo_Ukrainian', 'eo_oeeo', 'eo_seo_Greek',\n",
      "       'eo_seo_Italian', 'eo_seo_Portuguese', 'eo_seo_Spanish', 'eo_oseo',\n",
      "       'eo_oeo', 'co_Jamaican', 'oco', 'lcsao', 'ao', 'ao_wcameo', 'ao_sao_ei',\n",
      "       'ao_osao', 'ao_esao_Chinese', 'ao_esao_Filipino', 'ao_oesao', 'oo'],\n",
      "      dtype='object')\n"
     ]
    }
   ],
   "source": [
    "cons_vancouver = pd.read_csv(\"../../../census_data/Processed/Canada/CT/cons_canada_ct.csv\")\n",
    "synth_pop_vancouver = pd.read_csv(\"../../../synthetic_data/Canada/CT/synthetic_group_data_H.csv\")\n",
    "print(synth_pop_vancouver.columns)"
   ]
  },
  {
   "cell_type": "code",
   "execution_count": 39,
   "metadata": {},
   "outputs": [],
   "source": [
    "complete_result = []\n",
    "\n",
    "total = 0\n",
    "total2 = 0\n",
    "for name in synth_pop_vancouver.columns[:1]:\n",
    "    total+=abs(synth_pop_vancouver[name].sum() - cons_vancouver[name].sum())\n",
    "    total2+=cons_vancouver[name].sum()\n",
    "complete_error = total\n",
    "percent_error = round(total/total2*100,2)\n",
    "complete_result.append(['population',complete_error, str(percent_error)+\"%\"])\n",
    "\n",
    "total = 0\n",
    "total2 = 0\n",
    "for name in synth_pop_vancouver.columns[1:19]:\n",
    "    total+=abs(synth_pop_vancouver[name].sum() - cons_vancouver[name].sum())\n",
    "    total2+=cons_vancouver[name].sum()\n",
    "complete_error = total\n",
    "percent_error = round(total/total2*100,2)\n",
    "complete_result.append(['age',complete_error, str(percent_error)+\"%\"])\n",
    "\n",
    "total = 0\n",
    "total2 = 0\n",
    "for name in synth_pop_vancouver.columns[19:21]:\n",
    "    total+=abs(synth_pop_vancouver[name].sum() - cons_vancouver[name].sum())\n",
    "    total2+=cons_vancouver[name].sum()\n",
    "complete_error = total\n",
    "percent_error = round(total/total2*100,2)\n",
    "complete_result.append(['gender',complete_error, str(percent_error)+\"%\"])\n",
    "\n",
    "total = 0\n",
    "total2 = 0\n",
    "for name in synth_pop_vancouver.columns[21:55]:\n",
    "    total+=abs(synth_pop_vancouver[name].sum() - cons_vancouver[name].sum())\n",
    "    total2+=cons_vancouver[name].sum()\n",
    "complete_error = total\n",
    "percent_error = round(total/total2*100,2)\n",
    "complete_result.append(['ethnicity',complete_error, str(percent_error)+\"%\"])\n"
   ]
  },
  {
   "cell_type": "code",
   "execution_count": 40,
   "metadata": {},
   "outputs": [
    {
     "data": {
      "text/html": [
       "<div>\n",
       "<style scoped>\n",
       "    .dataframe tbody tr th:only-of-type {\n",
       "        vertical-align: middle;\n",
       "    }\n",
       "\n",
       "    .dataframe tbody tr th {\n",
       "        vertical-align: top;\n",
       "    }\n",
       "\n",
       "    .dataframe thead th {\n",
       "        text-align: right;\n",
       "    }\n",
       "</style>\n",
       "<table border=\"1\" class=\"dataframe\">\n",
       "  <thead>\n",
       "    <tr style=\"text-align: right;\">\n",
       "      <th></th>\n",
       "      <th>Category</th>\n",
       "      <th>Complete Error</th>\n",
       "      <th>Percentage Error</th>\n",
       "    </tr>\n",
       "  </thead>\n",
       "  <tbody>\n",
       "    <tr>\n",
       "      <th>0</th>\n",
       "      <td>population</td>\n",
       "      <td>1252</td>\n",
       "      <td>0.05%</td>\n",
       "    </tr>\n",
       "    <tr>\n",
       "      <th>1</th>\n",
       "      <td>age</td>\n",
       "      <td>30396</td>\n",
       "      <td>1.26%</td>\n",
       "    </tr>\n",
       "    <tr>\n",
       "      <th>2</th>\n",
       "      <td>gender</td>\n",
       "      <td>1252</td>\n",
       "      <td>0.05%</td>\n",
       "    </tr>\n",
       "    <tr>\n",
       "      <th>3</th>\n",
       "      <td>ethnicity</td>\n",
       "      <td>126620</td>\n",
       "      <td>5.24%</td>\n",
       "    </tr>\n",
       "  </tbody>\n",
       "</table>\n",
       "</div>"
      ],
      "text/plain": [
       "     Category  Complete Error Percentage Error\n",
       "0  population            1252            0.05%\n",
       "1         age           30396            1.26%\n",
       "2      gender            1252            0.05%\n",
       "3   ethnicity          126620            5.24%"
      ]
     },
     "execution_count": 40,
     "metadata": {},
     "output_type": "execute_result"
    }
   ],
   "source": [
    "result = pd.DataFrame(complete_result, columns = ['Category','Complete Error','Percentage Error'])\n",
    "result"
   ]
  },
  {
   "cell_type": "code",
   "execution_count": null,
   "metadata": {},
   "outputs": [],
   "source": []
  }
 ],
 "metadata": {
  "kernelspec": {
   "display_name": "Python 3 (ipykernel)",
   "language": "python",
   "name": "python3"
  },
  "language_info": {
   "codemirror_mode": {
    "name": "ipython",
    "version": 3
   },
   "file_extension": ".py",
   "mimetype": "text/x-python",
   "name": "python",
   "nbconvert_exporter": "python",
   "pygments_lexer": "ipython3",
   "version": "3.9.16"
  }
 },
 "nbformat": 4,
 "nbformat_minor": 4
}
