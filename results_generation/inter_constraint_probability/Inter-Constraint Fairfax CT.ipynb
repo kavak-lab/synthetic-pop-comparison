{
 "cells": [
  {
   "cell_type": "code",
   "execution_count": null,
   "id": "pressed-dimension",
   "metadata": {},
   "outputs": [],
   "source": [
    "import numpy as np\n",
    "import pandas as pd"
   ]
  },
  {
   "cell_type": "code",
   "execution_count": null,
   "id": "random-intersection",
   "metadata": {},
   "outputs": [],
   "source": [
    "ipf = []\n",
    "for i in range(1,259):\n",
    "    dct = {'m0_9':0,'m10_19':0,'m20_29':0,'m30_39':0,'m40_49':0,'m50_59':0,'m60_69':0,'m70_79':0,'m80_89':0,\n",
    "                'f0_9':0,'f10_19':0,'f20_29':0,'f30_39':0,'f40_49':0,'f50_59':0,'f60_69':0,'f70_79':0,'f80_89':0}\n",
    "    inds = pd.read_csv(\"../../synthetic_data/US/CT/ipf/{}.csv\".format(i))\n",
    "    for index, row in inds.iterrows():\n",
    "        dct[row[\"SEX\"]+row[\"AGE\"]] = dct[row[\"SEX\"]+row[\"AGE\"]]+1\n",
    "        \n",
    "    ipf.append([dct['m0_9'],dct['m10_19'],dct['m20_29'],dct['m30_39'],dct['m40_49'],dct['m50_59'],dct['m60_69'],\n",
    "                dct['m70_79'],dct['m80_89'],dct['f0_9'],dct['f10_19'],dct['f20_29'],dct['f30_39'],dct['f40_49'],\n",
    "                dct['f50_59'],dct['f60_69'],dct['f70_79'],dct['f80_89']])\n",
    "ipf_df = pd.DataFrame(ipf, columns = ['m0_9','m10_19','m20_29','m30_39','m40_49','m50_59','m60_69','m70_79',\n",
    "                                      'm80_89','f0_9','f10_19','f20_29','f30_39','f40_49','f50_59','f60_69',\n",
    "                                      'f70_79','f80_89'])\n",
    "ipf_df"
   ]
  },
  {
   "cell_type": "code",
   "execution_count": null,
   "id": "spatial-appeal",
   "metadata": {},
   "outputs": [],
   "source": [
    "cp = []\n",
    "for i in range(1,259):\n",
    "    dct = {'m0_9':0,'m10_19':0,'m20_29':0,'m30_39':0,'m40_49':0,'m50_59':0,'m60_69':0,'m70_79':0,'m80_89':0,\n",
    "                'f0_9':0,'f10_19':0,'f20_29':0,'f30_39':0,'f40_49':0,'f50_59':0,'f60_69':0,'f70_79':0,'f80_89':0}\n",
    "    inds = pd.read_csv(\"../../synthetic_data/US/CT/conditional_probability/{}.csv\".format(i))\n",
    "    for index, row in inds.iterrows():\n",
    "        standard = row[\" gender\"][1]+row[\" age range\"].replace(\"-\",\"_\")[1:]\n",
    "        dct[standard] = dct[standard]+1\n",
    "        \n",
    "    cp.append([dct['m0_9'],dct['m10_19'],dct['m20_29'],dct['m30_39'],dct['m40_49'],dct['m50_59'],dct['m60_69'],\n",
    "                dct['m70_79'],dct['m80_89'],dct['f0_9'],dct['f10_19'],dct['f20_29'],dct['f30_39'],dct['f40_49'],\n",
    "                dct['f50_59'],dct['f60_69'],dct['f70_79'],dct['f80_89']])\n",
    "cp_df = pd.DataFrame(cp, columns = ['m0_9','m10_19','m20_29','m30_39','m40_49','m50_59','m60_69','m70_79',\n",
    "                                      'm80_89','f0_9','f10_19','f20_29','f30_39','f40_49','f50_59','f60_69',\n",
    "                                      'f70_79','f80_89'])\n",
    "cp_df"
   ]
  },
  {
   "cell_type": "code",
   "execution_count": null,
   "id": "boolean-metabolism",
   "metadata": {},
   "outputs": [],
   "source": [
    "sa = []\n",
    "for i in range(1,259):\n",
    "    dct = {'m0_9':0,'m10_19':0,'m20_29':0,'m30_39':0,'m40_49':0,'m50_59':0,'m60_69':0,'m70_79':0,'m80_89':0,\n",
    "                'f0_9':0,'f10_19':0,'f20_29':0,'f30_39':0,'f40_49':0,'f50_59':0,'f60_69':0,'f70_79':0,'f80_89':0}\n",
    "    inds = pd.read_csv(\"../../synthetic_data/US/CT/simulated_annealing/{}.csv\".format(i))\n",
    "    for index, row in inds.iterrows():\n",
    "        dct[row[\"SEX\"]+row[\"AGE\"]] = dct[row[\"SEX\"]+row[\"AGE\"]]+1\n",
    "        \n",
    "    sa.append([dct['m0_9'],dct['m10_19'],dct['m20_29'],dct['m30_39'],dct['m40_49'],dct['m50_59'],dct['m60_69'],\n",
    "                dct['m70_79'],dct['m80_89'],dct['f0_9'],dct['f10_19'],dct['f20_29'],dct['f30_39'],dct['f40_49'],\n",
    "                dct['f50_59'],dct['f60_69'],dct['f70_79'],dct['f80_89']])\n",
    "sa_df = pd.DataFrame(sa, columns = ['m0_9','m10_19','m20_29','m30_39','m40_49','m50_59','m60_69','m70_79',\n",
    "                                      'm80_89','f0_9','f10_19','f20_29','f30_39','f40_49','f50_59','f60_69',\n",
    "                                      'f70_79','f80_89'])\n",
    "sa_df"
   ]
  },
  {
   "cell_type": "code",
   "execution_count": null,
   "id": "inner-beach",
   "metadata": {},
   "outputs": [],
   "source": [
    "hc = []\n",
    "for i in range(1,259):\n",
    "    dct = {'m0_9':0,'m10_19':0,'m20_29':0,'m30_39':0,'m40_49':0,'m50_59':0,'m60_69':0,'m70_79':0,'m80_89':0,\n",
    "                'f0_9':0,'f10_19':0,'f20_29':0,'f30_39':0,'f40_49':0,'f50_59':0,'f60_69':0,'f70_79':0,'f80_89':0}\n",
    "    inds = pd.read_csv(\"../../synthetic_data/US/CT/hill_climbing/{}.csv\".format(i))\n",
    "    for index, row in inds.iterrows():\n",
    "        dct[row[\"SEX\"]+row[\"AGE\"]] = dct[row[\"SEX\"]+row[\"AGE\"]]+1\n",
    "        \n",
    "    hc.append([dct['m0_9'],dct['m10_19'],dct['m20_29'],dct['m30_39'],dct['m40_49'],dct['m50_59'],dct['m60_69'],\n",
    "                dct['m70_79'],dct['m80_89'],dct['f0_9'],dct['f10_19'],dct['f20_29'],dct['f30_39'],dct['f40_49'],\n",
    "                dct['f50_59'],dct['f60_69'],dct['f70_79'],dct['f80_89']])\n",
    "hc_df = pd.DataFrame(hc, columns = ['m0_9','m10_19','m20_29','m30_39','m40_49','m50_59','m60_69','m70_79',\n",
    "                                      'm80_89','f0_9','f10_19','f20_29','f30_39','f40_49','f50_59','f60_69',\n",
    "                                      'f70_79','f80_89'])\n",
    "hc_df"
   ]
  },
  {
   "cell_type": "code",
   "execution_count": null,
   "id": "exposed-medication",
   "metadata": {},
   "outputs": [],
   "source": [
    "rpwr = []\n",
    "for i in range(1,259):\n",
    "    dct = {'m0_9':0,'m10_19':0,'m20_29':0,'m30_39':0,'m40_49':0,'m50_59':0,'m60_69':0,'m70_79':0,'m80_89':0,\n",
    "                'f0_9':0,'f10_19':0,'f20_29':0,'f30_39':0,'f40_49':0,'f50_59':0,'f60_69':0,'f70_79':0,'f80_89':0}\n",
    "    inds = pd.read_csv(\"../../synthetic_data/US/CT/random_pick_with_replacement/{}.csv\".format(i))\n",
    "    for index, row in inds.iterrows():\n",
    "        if row[\"SEX\"]+row[\"AGE\"] not in ['m90_99','f90_99']:\n",
    "            dct[row[\"SEX\"]+row[\"AGE\"]] = dct[row[\"SEX\"]+row[\"AGE\"]]+1\n",
    "        \n",
    "    rpwr.append([dct['m0_9'],dct['m10_19'],dct['m20_29'],dct['m30_39'],dct['m40_49'],dct['m50_59'],dct['m60_69'],\n",
    "                dct['m70_79'],dct['m80_89'],dct['f0_9'],dct['f10_19'],dct['f20_29'],dct['f30_39'],dct['f40_49'],\n",
    "                dct['f50_59'],dct['f60_69'],dct['f70_79'],dct['f80_89']])\n",
    "rpwr_df = pd.DataFrame(rpwr, columns = ['m0_9','m10_19','m20_29','m30_39','m40_49','m50_59','m60_69','m70_79',\n",
    "                                      'm80_89','f0_9','f10_19','f20_29','f30_39','f40_49','f50_59','f60_69',\n",
    "                                      'f70_79','f80_89'])\n",
    "rpwr_df"
   ]
  },
  {
   "cell_type": "code",
   "execution_count": null,
   "id": "swiss-character",
   "metadata": {},
   "outputs": [],
   "source": [
    "cons2 = pd.read_csv(\"../../census_data/Processed/US/CT/cons_us_ct.csv\")\n",
    "population_size = cons2.iloc[:,2]\n",
    "cons2 = cons2.iloc[:,3:21]\n",
    "\n",
    "ipf_abs = abs(cons2-ipf_df)\n",
    "rpwr_abs = abs(cons2-rpwr_df)\n",
    "hc_abs = abs(cons2-hc_df)\n",
    "sa_abs = abs(cons2-sa_df)\n",
    "cp_abs = abs(cons2-cp_df)\n",
    "\n",
    "ipf_errors = [ipf_abs.to_numpy().sum(), ipf_abs.to_numpy().sum()/population_size.to_numpy().sum() ]\n",
    "rpwr_errors = [rpwr_abs.to_numpy().sum(), rpwr_abs.to_numpy().sum()/population_size.to_numpy().sum() ]\n",
    "hc_errors = [hc_abs.to_numpy().sum(), hc_abs.to_numpy().sum()/population_size.to_numpy().sum() ]\n",
    "sa_errors = [sa_abs.to_numpy().sum(), sa_abs.to_numpy().sum()/population_size.to_numpy().sum() ]\n",
    "cp_errors = [cp_abs.to_numpy().sum(), cp_abs.to_numpy().sum()/population_size.to_numpy().sum() ]\n",
    "\n",
    "errors = [ipf_errors, rpwr_errors, hc_errors, sa_errors, cp_errors]\n",
    "errors"
   ]
  }
 ],
 "metadata": {
  "kernelspec": {
   "display_name": "Python 3 (ipykernel)",
   "language": "python",
   "name": "python3"
  },
  "language_info": {
   "codemirror_mode": {
    "name": "ipython",
    "version": 3
   },
   "file_extension": ".py",
   "mimetype": "text/x-python",
   "name": "python",
   "nbconvert_exporter": "python",
   "pygments_lexer": "ipython3",
   "version": "3.8.6"
  }
 },
 "nbformat": 4,
 "nbformat_minor": 5
}
